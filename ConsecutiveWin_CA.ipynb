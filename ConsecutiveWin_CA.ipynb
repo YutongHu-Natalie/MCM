{
 "cells": [
  {
   "cell_type": "code",
   "execution_count": 1,
   "metadata": {},
   "outputs": [],
   "source": [
    "import pandas as pd"
   ]
  },
  {
   "cell_type": "code",
   "execution_count": 2,
   "metadata": {},
   "outputs": [],
   "source": [
    "CA= pd.read_csv(\"Carlos_Alcaraz.csv\")"
   ]
  },
  {
   "cell_type": "code",
   "execution_count": 3,
   "metadata": {},
   "outputs": [
    {
     "name": "stdout",
     "output_type": "stream",
     "text": [
      "0.8620689655172413\n"
     ]
    }
   ],
   "source": [
    "CA['new_game'] = CA['game_no'].ne(CA['game_no'].shift())\n",
    "# the index of the first point of a new game\n",
    "new_game= list(CA[CA[\"new_game\"]].index)\n",
    "#where the result shows up(normally the one before the next game)\n",
    "game_result=list(i-1 for i in new_game if i!=0)\n",
    "game_result.append(len(CA)-1)\n",
    "#the indexes of the point that can satisfy win twice consecutively at the beginning\n",
    "Win_ft= list(i for i in new_game if (CA.loc[i, \"point_victor\"]==1) and (CA.loc[i+1, \"point_victor\"]==1))\n",
    "# because the last group is not in that list, we don't need to consider about this situation\n",
    "#intersection_index= list(Win_ft[i] for i in range(len(Win_ft)) if CA.loc[Win_ft[i+1]-1, 'game_victor']==1)\n",
    "# I leave the simplified version in the comment so you can understand\n",
    "'''\n",
    "intersection_index=list()\n",
    "for i in range(len(new_game)):\n",
    "    if (CA.loc[game_result[i], 'game_victor']==1) and new_game[i] in Win_ft:\n",
    "       intersection_index.append(new_game[i])'''\n",
    "\n",
    "intersection_index= list(new_game[i] for i in range(len(new_game)) if (CA.loc[game_result[i], 'game_victor']==1) and new_game[i] in Win_ft)\n",
    "cond_probability= len(intersection_index)/len(Win_ft)\n",
    "print(cond_probability)\n",
    "#print(intersection_index)\n",
    "#print(Win_ft)\n",
    "\n",
    "\n"
   ]
  },
  {
   "cell_type": "code",
   "execution_count": 4,
   "metadata": {},
   "outputs": [
    {
     "name": "stdout",
     "output_type": "stream",
     "text": [
      "average rounds for winning games\n",
      "6.5754716981132075\n",
      "average rounds for winning games starting with two consecutive points\n",
      "5.48\n"
     ]
    }
   ],
   "source": [
    "#Calculate the average rounds for winning games\n",
    "rounds_list= list((game_result[i]-new_game[i]+1) for i in range(len(new_game)) if CA.loc[game_result[i], 'game_victor']==1)\n",
    "avg_victor_rounds= sum(rounds_list)/len(rounds_list)\n",
    "print(\"average rounds for winning games\")\n",
    "print(avg_victor_rounds)\n",
    "consecutive_rounds= list((game_result[i]-new_game[i]+ 1) for i in range(len(new_game)) if (CA.loc[game_result[i], 'game_victor']==1) and new_game[i] in Win_ft)\n",
    "avg_consecutive_rounds= sum(consecutive_rounds)/len(consecutive_rounds)\n",
    "print(\"average rounds for winning games starting with two consecutive points\")\n",
    "print(avg_consecutive_rounds)"
   ]
  },
  {
   "cell_type": "code",
   "execution_count": 5,
   "metadata": {},
   "outputs": [
    {
     "name": "stdout",
     "output_type": "stream",
     "text": [
      "average rounds regardless of the game results\n",
      "5.524324324324325\n"
     ]
    }
   ],
   "source": [
    "# regardless of the game results, the average round\n",
    "general_rounds_list= list((game_result[i]- new_game[i]) for i in range(len(game_result)))\n",
    "avg_general_rounds_list= sum(general_rounds_list)/len(general_rounds_list)\n",
    "print(\"average rounds regardless of the game results\")\n",
    "print(avg_general_rounds_list)"
   ]
  }
 ],
 "metadata": {
  "kernelspec": {
   "display_name": "base",
   "language": "python",
   "name": "python3"
  },
  "language_info": {
   "codemirror_mode": {
    "name": "ipython",
    "version": 3
   },
   "file_extension": ".py",
   "mimetype": "text/x-python",
   "name": "python",
   "nbconvert_exporter": "python",
   "pygments_lexer": "ipython3",
   "version": "3.11.5"
  },
  "orig_nbformat": 4
 },
 "nbformat": 4,
 "nbformat_minor": 2
}
