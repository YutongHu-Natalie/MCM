{
 "cells": [
  {
   "cell_type": "markdown",
   "metadata": {},
   "source": [
    "average rally count : 4\n",
    "\n",
    "A: win the longest rally count (round) and win the game\n",
    "\n",
    "B: win the longest rally count (round)"
   ]
  },
  {
   "cell_type": "code",
   "execution_count": 7,
   "metadata": {},
   "outputs": [],
   "source": [
    "import pandas as pd\n",
    "import numpy as np \n",
    "import matplotlib.pyplot as plt"
   ]
  },
  {
   "cell_type": "code",
   "execution_count": 8,
   "metadata": {},
   "outputs": [
    {
     "data": {
      "text/plain": [
       "\"\\ndir = 'Wimbledon_featured_matches.csv'\\ndf = pd.read_csv(dir)\\npd.set_option('display.max_columns', None)\\npd.set_option('display.max_rows', None)\\nprint(df.player1.unique())\\nprint(df.player2.unique())\\ndf.head(25)\\ndf = df.loc[(df.player1 == 'NDrlos AlNDraz') ].reset_index().copy()\\ndf.head(20)\\nlen(df)\\nall_win_indx = df.loc[df.game_victor != 0].index # all indices either wins \\nall_p1_win_indx = df.loc[df.game_victor == 1].index # all indices p1 wins \\nprint(all_win_indx, all_p1_win_indx)\\nall_win_intv = [0] + list(np.diff(all_win_indx))\\nall_p1_win_intv = [0] + list(np.diff(all_p1_win_indx))\\nprint(all_win_intv, all_p1_win_intv)\\nmax_rally_count = []\\nfor i,end in enumerate(all_win_indx):\\n    max_rally_count.append([np.max(df.loc[all_win_intv[i]:end].rally_count), np.argmax(df.loc[all_win_intv[i]:end].rally_count)])\\nmax_rally_count\\n\""
      ]
     },
     "execution_count": 8,
     "metadata": {},
     "output_type": "execute_result"
    }
   ],
   "source": [
    "'''\n",
    "dir = 'Wimbledon_featured_matches.csv'\n",
    "df = pd.read_csv(dir)\n",
    "pd.set_option('display.max_columns', None)\n",
    "pd.set_option('display.max_rows', None)\n",
    "print(df.player1.unique())\n",
    "print(df.player2.unique())\n",
    "df.head(25)\n",
    "df = df.loc[(df.player1 == 'NDrlos AlNDraz') ].reset_index().copy()\n",
    "df.head(20)\n",
    "len(df)\n",
    "all_win_indx = df.loc[df.game_victor != 0].index # all indices either wins \n",
    "all_p1_win_indx = df.loc[df.game_victor == 1].index # all indices p1 wins \n",
    "print(all_win_indx, all_p1_win_indx)\n",
    "all_win_intv = [0] + list(np.diff(all_win_indx))\n",
    "all_p1_win_intv = [0] + list(np.diff(all_p1_win_indx))\n",
    "print(all_win_intv, all_p1_win_intv)\n",
    "max_rally_count = []\n",
    "for i,end in enumerate(all_win_indx):\n",
    "    max_rally_count.append([np.max(df.loc[all_win_intv[i]:end].rally_count), np.argmax(df.loc[all_win_intv[i]:end].rally_count)])\n",
    "max_rally_count\n",
    "'''\n"
   ]
  },
  {
   "cell_type": "code",
   "execution_count": 9,
   "metadata": {},
   "outputs": [
    {
     "name": "stdout",
     "output_type": "stream",
     "text": [
      "[5, 5, 17, 23, 23, 33, 36, 43, 49, 60, 65, 70, 76, 78, 89, 89, 95, 102, 108, 108, 115, 119, 127, 127, 136, 139, 142, 151, 159, 171, 173, 181, 183, 190, 195, 199, 199, 204, 212, 221, 227, 242, 243, 250, 254, 257, 269, 271, 279, 283, 293, 299, 299, 310, 322, 327, 330, 341, 343, 348, 352, 357, 361, 366, 374, 374, 379, 386, 391, 398, 400, 406, 414, 416, 424, 431, 437, 443, 445, 454, 458, 462, 474, 477, 483, 491, 497, 504, 509, 511, 520, 527, 531, 539, 542, 555, 555, 560, 565, 570, 580, 583, 590, 597, 611, 619, 619, 628, 631, 640, 641, 650, 652, 661, 669, 674, 680, 686, 690, 697, 700, 704, 715, 715, 721, 734, 742, 742, 751, 758, 764, 775, 775, 783, 789, 802, 802, 811, 817, 820, 823, 830, 839, 843, 856, 865, 868, 876, 885, 890, 896, 898, 903, 912, 919, 930, 943, 943, 950, 954, 959, 969, 972, 979, 992, 1004, 1004, 1011, 1016, 1042, 1057, 1061, 1072, 1072, 1090, 1092, 1109, 1113, 1119, 1122, 1130, 1137, 1145, 1153, 1154, 1163, 1163, 1171, 1177, 1180, 1186]\n"
     ]
    }
   ],
   "source": [
    "ND = pd.read_csv(\"Novak_Djokovic.csv\")\n",
    "ND['new_game'] = ND['game_no'].ne(ND['game_no'].shift())\n",
    "# the index of the first point of a new game\n",
    "new_game = list(ND[ND[\"new_game\"]].index)\n",
    "# where the result shows up (normally the one before the next game)\n",
    "game_result = list(i - 1 for i in new_game if i != 0)\n",
    "game_result.append(len(ND) - 1)\n",
    "longest_rally = list()\n",
    "for i in range(len(new_game)):\n",
    "    tmp = ND.loc[new_game[i]:game_result[i] + 1, \"rally_count\"]\n",
    "    longest_rally.append(tmp.argmax()+new_game[i])  \n",
    "print(longest_rally)  \n"
   ]
  },
  {
   "cell_type": "code",
   "execution_count": 10,
   "metadata": {},
   "outputs": [
    {
     "name": "stdout",
     "output_type": "stream",
     "text": [
      "[0, 5, 13, 17, 23, 28, 40, 46, 51, 61, 65, 76, 84, 89, 93, 132, 141, 172, 182, 204, 212, 224, 242, 257, 265, 276, 281, 291, 295, 299, 335, 351, 378, 389, 399, 409, 414, 424, 434, 438, 444, 450, 455, 460, 465, 477, 494, 500, 504, 510, 520, 524, 533, 541, 559, 563, 569, 615, 619, 625, 636, 645, 650, 665, 671, 677, 694, 699, 709, 715, 721, 727, 750, 794, 802, 808, 817, 846, 857, 867, 873, 879, 887, 898, 902, 925, 963, 982, 996, 1004, 1092, 1100, 1110, 1121, 1125, 1158, 1163, 1169, 1180]\n",
      "99\n"
     ]
    }
   ],
   "source": [
    "#the number of won longest rallies\n",
    "win_longest_rally= list(new_game[i] for i  in range(len(longest_rally)) if ND.loc[longest_rally[i], \"point_victor\"]==2)\n",
    "print(win_longest_rally)\n",
    "print(len(win_longest_rally))"
   ]
  },
  {
   "cell_type": "code",
   "execution_count": 11,
   "metadata": {},
   "outputs": [
    {
     "name": "stdout",
     "output_type": "stream",
     "text": [
      "[0, 13, 23, 28, 46, 51, 61, 65, 84, 89, 93, 132, 141, 172, 182, 212, 224, 242, 265, 276, 291, 299, 351, 389, 399, 409, 414, 424, 434, 438, 450, 460, 477, 500, 504, 510, 520, 524, 533, 559, 563, 569, 615, 619, 625, 636, 645, 650, 665, 671, 694, 715, 721, 727, 794, 808, 817, 846, 857, 867, 873, 879, 887, 898, 925, 963, 1092, 1100, 1110, 1121, 1125, 1158, 1169, 1180]\n",
      "74\n"
     ]
    }
   ],
   "source": [
    "#win the longest rally and win the game\n",
    "win_longestr_ngame= list(new_game[i] for i in range(len(longest_rally)) if (ND.loc[game_result[i], \"game_victor\"]==2) and new_game[i] in win_longest_rally)\n",
    "print(win_longestr_ngame)\n",
    "print(len(win_longestr_ngame))"
   ]
  },
  {
   "cell_type": "code",
   "execution_count": 12,
   "metadata": {},
   "outputs": [
    {
     "name": "stdout",
     "output_type": "stream",
     "text": [
      "0.7474747474747475\n"
     ]
    }
   ],
   "source": [
    "#conditional probability\n",
    "print(len(win_longestr_ngame)/len(win_longest_rally))"
   ]
  },
  {
   "cell_type": "code",
   "execution_count": 13,
   "metadata": {},
   "outputs": [
    {
     "name": "stdout",
     "output_type": "stream",
     "text": [
      "4.6891891891891895\n"
     ]
    }
   ],
   "source": [
    "#Calculate the average rounds for winning a game after winning the longest rally\n",
    "round_list= list((game_result[i]- new_game[i]) for i in range(len(game_result)) if new_game[i] in win_longestr_ngame)\n",
    "avg_round= sum(round_list)/len(round_list)\n",
    "print(avg_round)"
   ]
  }
 ],
 "metadata": {
  "kernelspec": {
   "display_name": "Python 3",
   "language": "python",
   "name": "python3"
  },
  "language_info": {
   "codemirror_mode": {
    "name": "ipython",
    "version": 3
   },
   "file_extension": ".py",
   "mimetype": "text/x-python",
   "name": "python",
   "nbconvert_exporter": "python",
   "pygments_lexer": "ipython3",
   "version": "3.11.5"
  }
 },
 "nbformat": 4,
 "nbformat_minor": 2
}
