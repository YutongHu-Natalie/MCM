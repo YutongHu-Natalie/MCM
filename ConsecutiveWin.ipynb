{
 "cells": [
  {
   "cell_type": "code",
   "execution_count": 1,
   "metadata": {},
   "outputs": [],
   "source": [
    "import pandas as pd"
   ]
  },
  {
   "cell_type": "code",
   "execution_count": 3,
   "metadata": {},
   "outputs": [],
   "source": [
    "CA= pd.read_csv(\"Carlos_Alcaraz.csv\")"
   ]
  },
  {
   "cell_type": "code",
   "execution_count": 95,
   "metadata": {},
   "outputs": [
    {
     "name": "stdout",
     "output_type": "stream",
     "text": [
      "0.8620689655172413\n"
     ]
    }
   ],
   "source": [
    "CA['new_game'] = CA['game_no'].ne(CA['game_no'].shift())\n",
    "# the index of the first point of a new game\n",
    "new_game= list(CA[CA[\"new_game\"]].index)\n",
    "#where the result shows up(normally the one before the next game)\n",
    "game_result=list(i-1 for i in new_game if i!=0)\n",
    "game_result.append(len(CA)-1)\n",
    "#the indexes of the point that can satisfy win twice consecutively at the beginning\n",
    "Win_ft= list(i for i in new_game if (CA.loc[i, \"point_victor\"]==1) and (CA.loc[i+1, \"point_victor\"]==1))\n",
    "# because the last group is not in that list, we don't need to consider about this situation\n",
    "#intersection_index= list(Win_ft[i] for i in range(len(Win_ft)) if CA.loc[Win_ft[i+1]-1, 'game_victor']==1)\n",
    "# I leave the simplified version in the comment so you can understand\n",
    "'''\n",
    "intersection_index=list()\n",
    "for i in range(len(new_game)):\n",
    "    if (CA.loc[game_result[i], 'game_victor']==1) and new_game[i] in Win_ft:\n",
    "       intersection_index.append(new_game[i])'''\n",
    "\n",
    "intersection_index= list(new_game[i] for i in range(len(new_game)) if (CA.loc[game_result[i], 'game_victor']==1) and new_game[i] in Win_ft)\n",
    "cond_probability= len(intersection_index)/len(Win_ft)\n",
    "print(cond_probability)\n",
    "#print(intersection_index)\n",
    "#print(Win_ft)\n",
    "\n",
    "\n"
   ]
  }
 ],
 "metadata": {
  "kernelspec": {
   "display_name": "base",
   "language": "python",
   "name": "python3"
  },
  "language_info": {
   "codemirror_mode": {
    "name": "ipython",
    "version": 3
   },
   "file_extension": ".py",
   "mimetype": "text/x-python",
   "name": "python",
   "nbconvert_exporter": "python",
   "pygments_lexer": "ipython3",
   "version": "3.11.5"
  },
  "orig_nbformat": 4
 },
 "nbformat": 4,
 "nbformat_minor": 2
}
