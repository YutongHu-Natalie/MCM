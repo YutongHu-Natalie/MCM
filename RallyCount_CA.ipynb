{
 "cells": [
  {
   "cell_type": "markdown",
   "metadata": {},
   "source": [
    "average rally count : 4\n",
    "\n",
    "A: win the longest rally count (round) and win the game\n",
    "\n",
    "B: win the longest rally count (round)"
   ]
  },
  {
   "cell_type": "code",
   "execution_count": 8,
   "metadata": {},
   "outputs": [],
   "source": [
    "import pandas as pd\n",
    "import numpy as np \n",
    "import matplotlib.pyplot as plt"
   ]
  },
  {
   "cell_type": "code",
   "execution_count": 9,
   "metadata": {},
   "outputs": [
    {
     "data": {
      "text/plain": [
       "\"\\ndir = 'Wimbledon_featured_matches.csv'\\ndf = pd.read_csv(dir)\\npd.set_option('display.max_columns', None)\\npd.set_option('display.max_rows', None)\\nprint(df.player1.unique())\\nprint(df.player2.unique())\\ndf.head(25)\\ndf = df.loc[(df.player1 == 'Carlos Alcaraz') ].reset_index().copy()\\ndf.head(20)\\nlen(df)\\nall_win_indx = df.loc[df.game_victor != 0].index # all indices either wins \\nall_p1_win_indx = df.loc[df.game_victor == 1].index # all indices p1 wins \\nprint(all_win_indx, all_p1_win_indx)\\nall_win_intv = [0] + list(np.diff(all_win_indx))\\nall_p1_win_intv = [0] + list(np.diff(all_p1_win_indx))\\nprint(all_win_intv, all_p1_win_intv)\\nmax_rally_count = []\\nfor i,end in enumerate(all_win_indx):\\n    max_rally_count.append([np.max(df.loc[all_win_intv[i]:end].rally_count), np.argmax(df.loc[all_win_intv[i]:end].rally_count)])\\nmax_rally_count\\n\""
      ]
     },
     "execution_count": 9,
     "metadata": {},
     "output_type": "execute_result"
    }
   ],
   "source": [
    "'''\n",
    "dir = 'Wimbledon_featured_matches.csv'\n",
    "df = pd.read_csv(dir)\n",
    "pd.set_option('display.max_columns', None)\n",
    "pd.set_option('display.max_rows', None)\n",
    "print(df.player1.unique())\n",
    "print(df.player2.unique())\n",
    "df.head(25)\n",
    "df = df.loc[(df.player1 == 'Carlos Alcaraz') ].reset_index().copy()\n",
    "df.head(20)\n",
    "len(df)\n",
    "all_win_indx = df.loc[df.game_victor != 0].index # all indices either wins \n",
    "all_p1_win_indx = df.loc[df.game_victor == 1].index # all indices p1 wins \n",
    "print(all_win_indx, all_p1_win_indx)\n",
    "all_win_intv = [0] + list(np.diff(all_win_indx))\n",
    "all_p1_win_intv = [0] + list(np.diff(all_p1_win_indx))\n",
    "print(all_win_intv, all_p1_win_intv)\n",
    "max_rally_count = []\n",
    "for i,end in enumerate(all_win_indx):\n",
    "    max_rally_count.append([np.max(df.loc[all_win_intv[i]:end].rally_count), np.argmax(df.loc[all_win_intv[i]:end].rally_count)])\n",
    "max_rally_count\n",
    "'''\n"
   ]
  },
  {
   "cell_type": "code",
   "execution_count": 10,
   "metadata": {},
   "outputs": [
    {
     "name": "stdout",
     "output_type": "stream",
     "text": [
      "[3, 11, 21, 27, 27, 40, 40, 49, 57, 63, 70, 79, 86, 91, 102, 110, 119, 125, 129, 135, 141, 141, 161, 161, 173, 180, 186, 189, 196, 202, 212, 217, 222, 228, 248, 254, 262, 262, 268, 277, 281, 288, 296, 300, 312, 314, 323, 323, 332, 339, 349, 349, 358, 373, 378, 382, 391, 391, 397, 403, 410, 410, 419, 433, 437, 444, 452, 458, 462, 473, 477, 487, 487, 494, 499, 501, 507, 513, 520, 528, 536, 540, 548, 556, 561, 564, 570, 575, 586, 590, 599, 603, 616, 616, 624, 631, 633, 639, 641, 650, 651, 658, 663, 666, 670, 679, 682, 689, 695, 695, 701, 712, 718, 718, 728, 733, 739, 747, 753, 756, 766, 770, 770, 781, 792, 796, 802, 806, 810, 814, 818, 824, 829, 839, 839, 849, 859, 862, 872, 881, 884, 892, 901, 906, 912, 914, 919, 928, 935, 946, 959, 959, 966, 970, 975, 985, 988, 995, 1008, 1020, 1020, 1027, 1032, 1058, 1073, 1077, 1088, 1088, 1106, 1108, 1125, 1129, 1135, 1138, 1146, 1153, 1161, 1169, 1170, 1179, 1179, 1187, 1193, 1196, 1202]\n"
     ]
    }
   ],
   "source": [
    "CA = pd.read_csv(\"Carlos_Alcaraz.csv\")\n",
    "CA['new_game'] = CA['game_no'].ne(CA['game_no'].shift())\n",
    "# the index of the first point of a new game\n",
    "new_game = list(CA[CA[\"new_game\"]].index)\n",
    "# where the result shows up (normally the one before the next game)\n",
    "game_result = list(i - 1 for i in new_game if i != 0)\n",
    "game_result.append(len(CA) - 1)\n",
    "longest_rally = list()\n",
    "for i in range(len(new_game)):\n",
    "    tmp = CA.loc[new_game[i]:game_result[i] + 1, \"rally_count\"]\n",
    "    longest_rally.append(tmp.argmax()+new_game[i])  \n",
    "print(longest_rally)  \n"
   ]
  },
  {
   "cell_type": "code",
   "execution_count": 11,
   "metadata": {},
   "outputs": [
    {
     "name": "stdout",
     "output_type": "stream",
     "text": [
      "[0, 10, 18, 23, 27, 35, 40, 45, 51, 79, 87, 105, 117, 126, 155, 161, 173, 179, 184, 189, 195, 199, 207, 212, 223, 241, 249, 257, 262, 268, 278, 300, 308, 319, 323, 331, 335, 369, 382, 395, 404, 410, 415, 420, 452, 461, 467, 475, 481, 487, 497, 506, 510, 525, 538, 552, 581, 601, 611, 616, 625, 637, 645, 656, 665, 675, 679, 689, 695, 700, 733, 745, 751, 756, 766, 770, 780, 788, 798, 808, 812, 818, 822, 867, 908, 923, 933, 949, 959, 965, 969, 974, 987, 992, 1026, 1032, 1040, 1072, 1077, 1082, 1088, 1096, 1132, 1146, 1156, 1164, 1170, 1191, 1201]\n",
      "109\n"
     ]
    }
   ],
   "source": [
    "#the number of won longest rallies\n",
    "win_longest_rally= list(new_game[i] for i  in range(len(longest_rally)) if CA.loc[longest_rally[i], \"point_victor\"]==1)\n",
    "print(win_longest_rally)\n",
    "print(len(win_longest_rally))"
   ]
  },
  {
   "cell_type": "code",
   "execution_count": 12,
   "metadata": {},
   "outputs": [
    {
     "name": "stdout",
     "output_type": "stream",
     "text": [
      "[0, 18, 27, 40, 45, 51, 79, 105, 117, 126, 155, 173, 179, 184, 195, 207, 241, 257, 262, 268, 278, 308, 319, 331, 382, 395, 404, 415, 420, 452, 461, 467, 475, 487, 497, 506, 510, 525, 538, 552, 601, 616, 625, 637, 645, 656, 665, 675, 679, 695, 751, 756, 770, 780, 788, 798, 808, 812, 818, 822, 867, 908, 923, 949, 965, 974, 987, 1032, 1040, 1072, 1077, 1082, 1096, 1132, 1156, 1164, 1170, 1191, 1201]\n",
      "79\n"
     ]
    }
   ],
   "source": [
    "#win the longest rally and win the game\n",
    "win_longestr_ngame= list(new_game[i] for i in range(len(longest_rally)) if (CA.loc[game_result[i], \"game_victor\"]==1) and new_game[i] in win_longest_rally)\n",
    "print(win_longestr_ngame)\n",
    "print(len(win_longestr_ngame))"
   ]
  },
  {
   "cell_type": "code",
   "execution_count": 13,
   "metadata": {},
   "outputs": [
    {
     "name": "stdout",
     "output_type": "stream",
     "text": [
      "0.7247706422018348\n"
     ]
    }
   ],
   "source": [
    "#conditional probability\n",
    "print(len(win_longestr_ngame)/len(win_longest_rally))"
   ]
  },
  {
   "cell_type": "code",
   "execution_count": 16,
   "metadata": {},
   "outputs": [
    {
     "name": "stdout",
     "output_type": "stream",
     "text": [
      "5.455696202531645\n"
     ]
    }
   ],
   "source": [
    "#Calculate the average rounds for winning a game after winning the longest rally\n",
    "round_list= list((game_result[i]- new_game[i]) for i in range(len(game_result)) if new_game[i] in win_longestr_ngame)\n",
    "avg_round= sum(round_list)/len(round_list)\n",
    "print(avg_round)"
   ]
  }
 ],
 "metadata": {
  "kernelspec": {
   "display_name": "Python 3",
   "language": "python",
   "name": "python3"
  },
  "language_info": {
   "codemirror_mode": {
    "name": "ipython",
    "version": 3
   },
   "file_extension": ".py",
   "mimetype": "text/x-python",
   "name": "python",
   "nbconvert_exporter": "python",
   "pygments_lexer": "ipython3",
   "version": "3.11.5"
  }
 },
 "nbformat": 4,
 "nbformat_minor": 2
}
